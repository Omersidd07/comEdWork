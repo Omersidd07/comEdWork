{
  "nbformat": 4,
  "nbformat_minor": 0,
  "metadata": {
    "colab": {
      "provenance": [],
      "authorship_tag": "ABX9TyPFCEb7gElCa8HhnAtrhL18",
      "include_colab_link": true
    },
    "kernelspec": {
      "name": "python3",
      "display_name": "Python 3"
    },
    "language_info": {
      "name": "python"
    }
  },
  "cells": [
    {
      "cell_type": "markdown",
      "metadata": {
        "id": "view-in-github",
        "colab_type": "text"
      },
      "source": [
        "<a href=\"https://colab.research.google.com/github/Omersidd07/comEdWork/blob/main/Category_Sums%26Barchart.ipynb\" target=\"_parent\"><img src=\"https://colab.research.google.com/assets/colab-badge.svg\" alt=\"Open In Colab\"/></a>"
      ]
    },
    {
      "cell_type": "code",
      "execution_count": null,
      "metadata": {
        "id": "-6lGueHUwgf5"
      },
      "outputs": [],
      "source": [
        "import numpy as np\n",
        "import pandas as pd\n",
        "import matplotlib.pyplot as plt"
      ]
    },
    {
      "cell_type": "code",
      "source": [
        "#Read in Files\n",
        "data = pd.read_excel(\"C:/20220620_investigate.xlsx\", converters={'Device_Name':str,'Device_Description':str})\n",
        "\n",
        "deviceDesc = data[['Device_Description', 'Device_Name']] = data[['Device_Description', 'Device_Name']].fillna('')\n",
        "\n",
        "#Creates a list of column names\n",
        "#8 is device description\n",
        "labels = list(data.columns.values)"
      ],
      "metadata": {
        "id": "dHRnQd3pw7-G"
      },
      "execution_count": null,
      "outputs": []
    },
    {
      "cell_type": "code",
      "source": [
        "#Number of meters that are under New Business (A new business was established and they are in need of a meter to be installed)\n",
        "New_BusinessSum = deviceDesc.Device_Description.str.count(\"NB\").sum() + deviceDesc.Device_Description.str.count(\"nb\").sum() + deviceDesc.Device_Description.str.count(\"new business\").sum() + deviceDesc.Device_Description.str.count(\"revision\").sum()\n",
        "\n",
        "#Number of meters with no description\n",
        "noDescriptionMeters = deviceDesc.Device_Description.isna().sum()\n",
        "\n",
        "#Number of meters lost in demolitions\n",
        "demoMeters = deviceDesc.Device_Description.str.count(\"demo\").sum()\n",
        "\n",
        "#Number of meters that were in sturcture fires\n",
        "metersInFires = deviceDesc.Device_Description.str.count(\"fire\").sum() + deviceDesc.Device_Description.str.count(\"burn\").sum() + deviceDesc.Device_Description.str.count(\"structure fire\").sum()\n",
        "\n",
        "#Number of meters from customers that did not fit criteria or requirements to be billed properly\n",
        "Non_Compliance_Meters = deviceDesc.Device_Description.str.count(\"non-com\").sum() + deviceDesc.Device_Description.str.count(\"noncom\").sum() + deviceDesc.Device_Description.str.count(\"non com\").sum()\n",
        "Non_Compliance_Meters += (deviceDesc.Device_Description.str.count(\"backfee\").sum() + deviceDesc.Device_Description.str.count(\"back fee\").sum() + deviceDesc.Device_Description.str.count(\"back-fee\").sum())\n",
        "Non_Compliance_Meters += deviceDesc.Device_Description.str.count(\"jump\").sum()\n",
        "\n",
        "\n",
        "\n",
        "#Meters that are plated\n",
        "platedMeters = deviceDesc.Device_Description.str.count(\"plate\").sum()\n",
        "\n",
        "\n",
        "#Other meters that dont fit into a certain category\n",
        "meterstobeDeleted = deviceDesc.Device_Description.str.count(\"del\").sum()\n",
        "poleCutMeters = deviceDesc.Device_Description.str.count(\"pole cut\").sum()\n",
        "poleCutMeters += deviceDesc.Device_Description.str.count(\"cut\").sum()\n",
        "meterswithPowerIssues = deviceDesc.Device_Description.str.count(\"pow\").sum() + deviceDesc.Device_Description.str.count(\"volt\").sum() + deviceDesc.Device_Description.str.count(\"outage\").sum()\n",
        "\n",
        "otherTotal = meterstobeDeleted + poleCutMeters + meterswithPowerIssues"
      ],
      "metadata": {
        "id": "9nGDboII5OCV"
      },
      "execution_count": null,
      "outputs": []
    },
    {
      "cell_type": "code",
      "source": [
        "df = pd.DataFrame({'Investigate Meters Categories':['New Business', 'No Description', 'Lost in Demolitions', 'Structure Fires', 'Non-Compliance Meters', 'Plated Meters', 'Other Category(Meters that were in active due to a pole cut, power issues, or needed to be deleted)'], \n",
        "                   'Number of Meters':[New_BusinessSum, noDescriptionMeters, demoMeters, metersInFires, Non_Compliance_Meters, platedMeters, otherTotal]})\n",
        "ax = df.plot.bar(x='Investigate Meters Categories', y='Number of Meters', rot=0)"
      ],
      "metadata": {
        "id": "mDsBVx2wb07d"
      },
      "execution_count": null,
      "outputs": []
    }
  ]
}